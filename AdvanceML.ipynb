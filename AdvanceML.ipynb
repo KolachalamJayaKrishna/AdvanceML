{
  "nbformat": 4,
  "nbformat_minor": 0,
  "metadata": {
    "colab": {
      "provenance": [],
      "authorship_tag": "ABX9TyOSgYIIjHxPUZ1W3znJ+SYw",
      "include_colab_link": true
    },
    "kernelspec": {
      "name": "python3",
      "display_name": "Python 3"
    },
    "language_info": {
      "name": "python"
    }
  },
  "cells": [
    {
      "cell_type": "markdown",
      "metadata": {
        "id": "view-in-github",
        "colab_type": "text"
      },
      "source": [
        "<a href=\"https://colab.research.google.com/github/KolachalamJayaKrishna/AdvanceML/blob/main/AdvanceML.ipynb\" target=\"_parent\"><img src=\"https://colab.research.google.com/assets/colab-badge.svg\" alt=\"Open In Colab\"/></a>"
      ]
    },
    {
      "cell_type": "code",
      "execution_count": 1,
      "metadata": {
        "colab": {
          "base_uri": "https://localhost:8080/"
        },
        "id": "rz4kQzNRjM6X",
        "outputId": "1d663f01-5a6c-409b-adf6-04ab5cf29006"
      },
      "outputs": [
        {
          "output_type": "stream",
          "name": "stdout",
          "text": [
            "Requirement already satisfied: seaborn in /usr/local/lib/python3.10/dist-packages (0.13.1)\n",
            "Requirement already satisfied: numpy!=1.24.0,>=1.20 in /usr/local/lib/python3.10/dist-packages (from seaborn) (1.23.5)\n",
            "Requirement already satisfied: pandas>=1.2 in /usr/local/lib/python3.10/dist-packages (from seaborn) (1.5.3)\n",
            "Requirement already satisfied: matplotlib!=3.6.1,>=3.4 in /usr/local/lib/python3.10/dist-packages (from seaborn) (3.7.1)\n",
            "Requirement already satisfied: contourpy>=1.0.1 in /usr/local/lib/python3.10/dist-packages (from matplotlib!=3.6.1,>=3.4->seaborn) (1.2.0)\n",
            "Requirement already satisfied: cycler>=0.10 in /usr/local/lib/python3.10/dist-packages (from matplotlib!=3.6.1,>=3.4->seaborn) (0.12.1)\n",
            "Requirement already satisfied: fonttools>=4.22.0 in /usr/local/lib/python3.10/dist-packages (from matplotlib!=3.6.1,>=3.4->seaborn) (4.47.2)\n",
            "Requirement already satisfied: kiwisolver>=1.0.1 in /usr/local/lib/python3.10/dist-packages (from matplotlib!=3.6.1,>=3.4->seaborn) (1.4.5)\n",
            "Requirement already satisfied: packaging>=20.0 in /usr/local/lib/python3.10/dist-packages (from matplotlib!=3.6.1,>=3.4->seaborn) (23.2)\n",
            "Requirement already satisfied: pillow>=6.2.0 in /usr/local/lib/python3.10/dist-packages (from matplotlib!=3.6.1,>=3.4->seaborn) (9.4.0)\n",
            "Requirement already satisfied: pyparsing>=2.3.1 in /usr/local/lib/python3.10/dist-packages (from matplotlib!=3.6.1,>=3.4->seaborn) (3.1.1)\n",
            "Requirement already satisfied: python-dateutil>=2.7 in /usr/local/lib/python3.10/dist-packages (from matplotlib!=3.6.1,>=3.4->seaborn) (2.8.2)\n",
            "Requirement already satisfied: pytz>=2020.1 in /usr/local/lib/python3.10/dist-packages (from pandas>=1.2->seaborn) (2023.4)\n",
            "Requirement already satisfied: six>=1.5 in /usr/local/lib/python3.10/dist-packages (from python-dateutil>=2.7->matplotlib!=3.6.1,>=3.4->seaborn) (1.16.0)\n"
          ]
        }
      ],
      "source": [
        "!pip install seaborn"
      ]
    },
    {
      "cell_type": "code",
      "source": [
        "!pip install flask"
      ],
      "metadata": {
        "colab": {
          "base_uri": "https://localhost:8080/"
        },
        "id": "0tUjxdFZjea8",
        "outputId": "635964b4-9c9b-4b1b-ed22-4fd039f6f381"
      },
      "execution_count": 2,
      "outputs": [
        {
          "output_type": "stream",
          "name": "stdout",
          "text": [
            "Requirement already satisfied: flask in /usr/local/lib/python3.10/dist-packages (2.2.5)\n",
            "Requirement already satisfied: Werkzeug>=2.2.2 in /usr/local/lib/python3.10/dist-packages (from flask) (3.0.1)\n",
            "Requirement already satisfied: Jinja2>=3.0 in /usr/local/lib/python3.10/dist-packages (from flask) (3.1.3)\n",
            "Requirement already satisfied: itsdangerous>=2.0 in /usr/local/lib/python3.10/dist-packages (from flask) (2.1.2)\n",
            "Requirement already satisfied: click>=8.0 in /usr/local/lib/python3.10/dist-packages (from flask) (8.1.7)\n",
            "Requirement already satisfied: MarkupSafe>=2.0 in /usr/local/lib/python3.10/dist-packages (from Jinja2>=3.0->flask) (2.1.4)\n"
          ]
        }
      ]
    },
    {
      "cell_type": "code",
      "source": [
        "!pip install joblib"
      ],
      "metadata": {
        "colab": {
          "base_uri": "https://localhost:8080/"
        },
        "id": "4Up-Y7Nujlvz",
        "outputId": "6f56b9e8-6af7-4f64-ce70-3c520eeb9b72"
      },
      "execution_count": 3,
      "outputs": [
        {
          "output_type": "stream",
          "name": "stdout",
          "text": [
            "Requirement already satisfied: joblib in /usr/local/lib/python3.10/dist-packages (1.3.2)\n"
          ]
        }
      ]
    },
    {
      "cell_type": "code",
      "source": [
        "!pip show flask"
      ],
      "metadata": {
        "colab": {
          "base_uri": "https://localhost:8080/"
        },
        "id": "CEEbwP5UkRls",
        "outputId": "5c09929d-429c-4dc5-b707-7457775eb090"
      },
      "execution_count": 5,
      "outputs": [
        {
          "output_type": "stream",
          "name": "stdout",
          "text": [
            "Name: Flask\n",
            "Version: 2.2.5\n",
            "Summary: A simple framework for building complex web applications.\n",
            "Home-page: https://palletsprojects.com/p/flask\n",
            "Author: Armin Ronacher\n",
            "Author-email: armin.ronacher@active-4.com\n",
            "License: BSD-3-Clause\n",
            "Location: /usr/local/lib/python3.10/dist-packages\n",
            "Requires: click, itsdangerous, Jinja2, Werkzeug\n",
            "Required-by: community\n"
          ]
        }
      ]
    },
    {
      "cell_type": "code",
      "source": [
        "!pip install -U flask"
      ],
      "metadata": {
        "colab": {
          "base_uri": "https://localhost:8080/"
        },
        "id": "cLURaYPYNxUX",
        "outputId": "9b272393-229d-45bd-9514-b97efb3952b8"
      },
      "execution_count": 7,
      "outputs": [
        {
          "output_type": "stream",
          "name": "stdout",
          "text": [
            "Requirement already satisfied: flask in /usr/local/lib/python3.10/dist-packages (2.2.5)\n",
            "Collecting flask\n",
            "  Downloading flask-3.0.2-py3-none-any.whl (101 kB)\n",
            "\u001b[2K     \u001b[90m━━━━━━━━━━━━━━━━━━━━━━━━━━━━━━━━━━━━━━━━\u001b[0m \u001b[32m101.3/101.3 kB\u001b[0m \u001b[31m3.6 MB/s\u001b[0m eta \u001b[36m0:00:00\u001b[0m\n",
            "\u001b[?25hRequirement already satisfied: Werkzeug>=3.0.0 in /usr/local/lib/python3.10/dist-packages (from flask) (3.0.1)\n",
            "Requirement already satisfied: Jinja2>=3.1.2 in /usr/local/lib/python3.10/dist-packages (from flask) (3.1.3)\n",
            "Requirement already satisfied: itsdangerous>=2.1.2 in /usr/local/lib/python3.10/dist-packages (from flask) (2.1.2)\n",
            "Requirement already satisfied: click>=8.1.3 in /usr/local/lib/python3.10/dist-packages (from flask) (8.1.7)\n",
            "Collecting blinker>=1.6.2 (from flask)\n",
            "  Downloading blinker-1.7.0-py3-none-any.whl (13 kB)\n",
            "Requirement already satisfied: MarkupSafe>=2.0 in /usr/local/lib/python3.10/dist-packages (from Jinja2>=3.1.2->flask) (2.1.4)\n",
            "Installing collected packages: blinker, flask\n",
            "  Attempting uninstall: blinker\n",
            "    Found existing installation: blinker 1.4\n",
            "\u001b[31mERROR: Cannot uninstall 'blinker'. It is a distutils installed project and thus we cannot accurately determine which files belong to it which would lead to only a partial uninstall.\u001b[0m\u001b[31m\n",
            "\u001b[0m"
          ]
        }
      ]
    },
    {
      "cell_type": "code",
      "source": [
        "!pip uninstall blinker"
      ],
      "metadata": {
        "colab": {
          "base_uri": "https://localhost:8080/"
        },
        "id": "37S2HP4rN1xh",
        "outputId": "300a96e6-2473-4217-cc71-efd2434b628d"
      },
      "execution_count": 8,
      "outputs": [
        {
          "output_type": "stream",
          "name": "stdout",
          "text": [
            "Found existing installation: blinker 1.4\n",
            "\u001b[31mERROR: Cannot uninstall 'blinker'. It is a distutils installed project and thus we cannot accurately determine which files belong to it which would lead to only a partial uninstall.\u001b[0m\u001b[31m\n",
            "\u001b[0m"
          ]
        }
      ]
    },
    {
      "cell_type": "code",
      "source": [
        "!pip show joblib"
      ],
      "metadata": {
        "colab": {
          "base_uri": "https://localhost:8080/"
        },
        "id": "fHUpB63pOb-y",
        "outputId": "db003dd1-49c9-433d-adc9-24f10dc2e69b"
      },
      "execution_count": 9,
      "outputs": [
        {
          "output_type": "stream",
          "name": "stdout",
          "text": [
            "Name: joblib\n",
            "Version: 1.3.2\n",
            "Summary: Lightweight pipelining with Python functions\n",
            "Home-page: \n",
            "Author: \n",
            "Author-email: Gael Varoquaux <gael.varoquaux@normalesup.org>\n",
            "License: BSD 3-Clause\n",
            "Location: /usr/local/lib/python3.10/dist-packages\n",
            "Requires: \n",
            "Required-by: imbalanced-learn, librosa, mlxtend, music21, nltk, pins, scikit-learn\n"
          ]
        }
      ]
    },
    {
      "cell_type": "code",
      "source": [
        "!pip install -u joblib"
      ],
      "metadata": {
        "colab": {
          "base_uri": "https://localhost:8080/"
        },
        "id": "_FEijO7MOj0D",
        "outputId": "cf93cbe3-5077-453b-e781-a6d287859089"
      },
      "execution_count": 10,
      "outputs": [
        {
          "output_type": "stream",
          "name": "stdout",
          "text": [
            "\n",
            "Usage:   \n",
            "  pip3 install [options] <requirement specifier> [package-index-options] ...\n",
            "  pip3 install [options] -r <requirements file> [package-index-options] ...\n",
            "  pip3 install [options] [-e] <vcs project url> ...\n",
            "  pip3 install [options] [-e] <local project path> ...\n",
            "  pip3 install [options] <archive url/path> ...\n",
            "\n",
            "no such option: -u\n"
          ]
        }
      ]
    },
    {
      "cell_type": "code",
      "source": [
        "!pip install -U joblib"
      ],
      "metadata": {
        "colab": {
          "base_uri": "https://localhost:8080/"
        },
        "id": "OOv9KuzpOoqP",
        "outputId": "674761c9-1981-4b54-843c-874436230d55"
      },
      "execution_count": 11,
      "outputs": [
        {
          "output_type": "stream",
          "name": "stdout",
          "text": [
            "Requirement already satisfied: joblib in /usr/local/lib/python3.10/dist-packages (1.3.2)\n"
          ]
        }
      ]
    },
    {
      "cell_type": "code",
      "source": [
        "!pip install -U numpy"
      ],
      "metadata": {
        "colab": {
          "base_uri": "https://localhost:8080/"
        },
        "id": "9FxVBq9UOsJ3",
        "outputId": "b7f6f8e9-e3b3-4a33-f09f-85168b6aaf34"
      },
      "execution_count": 12,
      "outputs": [
        {
          "output_type": "stream",
          "name": "stdout",
          "text": [
            "Requirement already satisfied: numpy in /usr/local/lib/python3.10/dist-packages (1.23.5)\n",
            "Collecting numpy\n",
            "  Downloading numpy-1.26.4-cp310-cp310-manylinux_2_17_x86_64.manylinux2014_x86_64.whl (18.2 MB)\n",
            "\u001b[2K     \u001b[90m━━━━━━━━━━━━━━━━━━━━━━━━━━━━━━━━━━━━━━━━\u001b[0m \u001b[32m18.2/18.2 MB\u001b[0m \u001b[31m44.3 MB/s\u001b[0m eta \u001b[36m0:00:00\u001b[0m\n",
            "\u001b[?25hInstalling collected packages: numpy\n",
            "  Attempting uninstall: numpy\n",
            "    Found existing installation: numpy 1.23.5\n",
            "    Uninstalling numpy-1.23.5:\n",
            "      Successfully uninstalled numpy-1.23.5\n",
            "\u001b[31mERROR: pip's dependency resolver does not currently take into account all the packages that are installed. This behaviour is the source of the following dependency conflicts.\n",
            "lida 0.0.10 requires fastapi, which is not installed.\n",
            "lida 0.0.10 requires kaleido, which is not installed.\n",
            "lida 0.0.10 requires python-multipart, which is not installed.\n",
            "lida 0.0.10 requires uvicorn, which is not installed.\u001b[0m\u001b[31m\n",
            "\u001b[0mSuccessfully installed numpy-1.26.4\n"
          ]
        }
      ]
    },
    {
      "cell_type": "code",
      "source": [
        "!pip list"
      ],
      "metadata": {
        "colab": {
          "base_uri": "https://localhost:8080/"
        },
        "id": "v-F-QHZeOwZF",
        "outputId": "50fbc4ec-370f-403e-8928-1ae7716141c5"
      },
      "execution_count": 13,
      "outputs": [
        {
          "output_type": "stream",
          "name": "stdout",
          "text": [
            "Package                          Version\n",
            "-------------------------------- ---------------------\n",
            "absl-py                          1.4.0\n",
            "aiohttp                          3.9.3\n",
            "aiosignal                        1.3.1\n",
            "alabaster                        0.7.16\n",
            "albumentations                   1.3.1\n",
            "altair                           4.2.2\n",
            "anyio                            3.7.1\n",
            "appdirs                          1.4.4\n",
            "argon2-cffi                      23.1.0\n",
            "argon2-cffi-bindings             21.2.0\n",
            "array-record                     0.5.0\n",
            "arviz                            0.15.1\n",
            "astropy                          5.3.4\n",
            "astunparse                       1.6.3\n",
            "async-timeout                    4.0.3\n",
            "atpublic                         4.0\n",
            "attrs                            23.2.0\n",
            "audioread                        3.0.1\n",
            "autograd                         1.6.2\n",
            "Babel                            2.14.0\n",
            "backcall                         0.2.0\n",
            "beautifulsoup4                   4.12.3\n",
            "bidict                           0.22.1\n",
            "bigframes                        0.20.0\n",
            "bleach                           6.1.0\n",
            "blinker                          1.4\n",
            "blis                             0.7.11\n",
            "blosc2                           2.0.0\n",
            "bokeh                            3.3.4\n",
            "bqplot                           0.12.42\n",
            "branca                           0.7.1\n",
            "build                            1.0.3\n",
            "CacheControl                     0.13.1\n",
            "cachetools                       5.3.2\n",
            "catalogue                        2.0.10\n",
            "certifi                          2023.11.17\n",
            "cffi                             1.16.0\n",
            "chardet                          5.2.0\n",
            "charset-normalizer               3.3.2\n",
            "chex                             0.1.7\n",
            "click                            8.1.7\n",
            "click-plugins                    1.1.1\n",
            "cligj                            0.7.2\n",
            "cloudpathlib                     0.16.0\n",
            "cloudpickle                      2.2.1\n",
            "cmake                            3.27.9\n",
            "cmdstanpy                        1.2.0\n",
            "colorcet                         3.0.1\n",
            "colorlover                       0.3.0\n",
            "colour                           0.1.5\n",
            "community                        1.0.0b1\n",
            "confection                       0.1.4\n",
            "cons                             0.4.6\n",
            "contextlib2                      21.6.0\n",
            "contourpy                        1.2.0\n",
            "cryptography                     42.0.2\n",
            "cufflinks                        0.17.3\n",
            "cupy-cuda12x                     12.2.0\n",
            "cvxopt                           1.3.2\n",
            "cvxpy                            1.3.3\n",
            "cycler                           0.12.1\n",
            "cymem                            2.0.8\n",
            "Cython                           3.0.8\n",
            "dask                             2023.8.1\n",
            "datascience                      0.17.6\n",
            "db-dtypes                        1.2.0\n",
            "dbus-python                      1.2.18\n",
            "debugpy                          1.6.6\n",
            "decorator                        4.4.2\n",
            "defusedxml                       0.7.1\n",
            "diskcache                        5.6.3\n",
            "distributed                      2023.8.1\n",
            "distro                           1.7.0\n",
            "dlib                             19.24.2\n",
            "dm-tree                          0.1.8\n",
            "docutils                         0.18.1\n",
            "dopamine-rl                      4.0.6\n",
            "duckdb                           0.9.2\n",
            "earthengine-api                  0.1.388\n",
            "easydict                         1.11\n",
            "ecos                             2.0.12\n",
            "editdistance                     0.6.2\n",
            "eerepr                           0.0.4\n",
            "en-core-web-sm                   3.7.1\n",
            "entrypoints                      0.4\n",
            "et-xmlfile                       1.1.0\n",
            "etils                            1.6.0\n",
            "etuples                          0.3.9\n",
            "exceptiongroup                   1.2.0\n",
            "fastai                           2.7.14\n",
            "fastcore                         1.5.29\n",
            "fastdownload                     0.0.7\n",
            "fastjsonschema                   2.19.1\n",
            "fastprogress                     1.0.3\n",
            "fastrlock                        0.8.2\n",
            "filelock                         3.13.1\n",
            "fiona                            1.9.5\n",
            "firebase-admin                   5.3.0\n",
            "Flask                            2.2.5\n",
            "flatbuffers                      23.5.26\n",
            "flax                             0.8.0\n",
            "folium                           0.14.0\n",
            "fonttools                        4.47.2\n",
            "frozendict                       2.4.0\n",
            "frozenlist                       1.4.1\n",
            "fsspec                           2023.6.0\n",
            "future                           0.18.3\n",
            "gast                             0.5.4\n",
            "gcsfs                            2023.6.0\n",
            "GDAL                             3.6.4\n",
            "gdown                            4.7.3\n",
            "geemap                           0.30.4\n",
            "gensim                           4.3.2\n",
            "geocoder                         1.38.1\n",
            "geographiclib                    2.0\n",
            "geopandas                        0.13.2\n",
            "geopy                            2.3.0\n",
            "gin-config                       0.5.0\n",
            "glob2                            0.7\n",
            "google                           2.0.3\n",
            "google-ai-generativelanguage     0.4.0\n",
            "google-api-core                  2.11.1\n",
            "google-api-python-client         2.84.0\n",
            "google-auth                      2.17.3\n",
            "google-auth-httplib2             0.1.1\n",
            "google-auth-oauthlib             1.2.0\n",
            "google-cloud-aiplatform          1.39.0\n",
            "google-cloud-bigquery            3.12.0\n",
            "google-cloud-bigquery-connection 1.12.1\n",
            "google-cloud-bigquery-storage    2.24.0\n",
            "google-cloud-core                2.3.3\n",
            "google-cloud-datastore           2.15.2\n",
            "google-cloud-firestore           2.11.1\n",
            "google-cloud-functions           1.13.3\n",
            "google-cloud-iam                 2.13.0\n",
            "google-cloud-language            2.9.1\n",
            "google-cloud-resource-manager    1.11.0\n",
            "google-cloud-storage             2.8.0\n",
            "google-cloud-translate           3.11.3\n",
            "google-colab                     1.0.0\n",
            "google-crc32c                    1.5.0\n",
            "google-generativeai              0.3.2\n",
            "google-pasta                     0.2.0\n",
            "google-resumable-media           2.7.0\n",
            "googleapis-common-protos         1.62.0\n",
            "googledrivedownloader            0.4\n",
            "graphviz                         0.20.1\n",
            "greenlet                         3.0.3\n",
            "grpc-google-iam-v1               0.13.0\n",
            "grpcio                           1.60.0\n",
            "grpcio-status                    1.48.2\n",
            "gspread                          3.4.2\n",
            "gspread-dataframe                3.3.1\n",
            "gym                              0.25.2\n",
            "gym-notices                      0.0.8\n",
            "h5netcdf                         1.3.0\n",
            "h5py                             3.9.0\n",
            "holidays                         0.41\n",
            "holoviews                        1.17.1\n",
            "html5lib                         1.1\n",
            "httpimport                       1.3.1\n",
            "httplib2                         0.22.0\n",
            "huggingface-hub                  0.20.3\n",
            "humanize                         4.7.0\n",
            "hyperopt                         0.2.7\n",
            "ibis-framework                   7.1.0\n",
            "idna                             3.6\n",
            "imageio                          2.31.6\n",
            "imageio-ffmpeg                   0.4.9\n",
            "imagesize                        1.4.1\n",
            "imbalanced-learn                 0.10.1\n",
            "imgaug                           0.4.0\n",
            "importlib-metadata               7.0.1\n",
            "importlib-resources              6.1.1\n",
            "imutils                          0.5.4\n",
            "inflect                          7.0.0\n",
            "iniconfig                        2.0.0\n",
            "install                          1.3.5\n",
            "intel-openmp                     2023.2.3\n",
            "ipyevents                        2.0.2\n",
            "ipyfilechooser                   0.6.0\n",
            "ipykernel                        5.5.6\n",
            "ipyleaflet                       0.18.2\n",
            "ipython                          7.34.0\n",
            "ipython-genutils                 0.2.0\n",
            "ipython-sql                      0.5.0\n",
            "ipytree                          0.2.2\n",
            "ipywidgets                       7.7.1\n",
            "itsdangerous                     2.1.2\n",
            "jax                              0.4.23\n",
            "jaxlib                           0.4.23+cuda12.cudnn89\n",
            "jeepney                          0.7.1\n",
            "jieba                            0.42.1\n",
            "Jinja2                           3.1.3\n",
            "joblib                           1.3.2\n",
            "jsonpickle                       3.0.2\n",
            "jsonschema                       4.19.2\n",
            "jsonschema-specifications        2023.12.1\n",
            "jupyter-client                   6.1.12\n",
            "jupyter-console                  6.1.0\n",
            "jupyter_core                     5.7.1\n",
            "jupyter-server                   1.24.0\n",
            "jupyterlab_pygments              0.3.0\n",
            "jupyterlab-widgets               3.0.9\n",
            "kaggle                           1.5.16\n",
            "kagglehub                        0.1.8\n",
            "keras                            2.15.0\n",
            "keyring                          23.5.0\n",
            "kiwisolver                       1.4.5\n",
            "langcodes                        3.3.0\n",
            "launchpadlib                     1.10.16\n",
            "lazr.restfulclient               0.14.4\n",
            "lazr.uri                         1.0.6\n",
            "lazy_loader                      0.3\n",
            "libclang                         16.0.6\n",
            "librosa                          0.10.1\n",
            "lida                             0.0.10\n",
            "lightgbm                         4.1.0\n",
            "linkify-it-py                    2.0.2\n",
            "llmx                             0.0.15a0\n",
            "llvmlite                         0.41.1\n",
            "locket                           1.0.0\n",
            "logical-unification              0.4.6\n",
            "lxml                             4.9.4\n",
            "malloy                           2023.1067\n",
            "Markdown                         3.5.2\n",
            "markdown-it-py                   3.0.0\n",
            "MarkupSafe                       2.1.4\n",
            "matplotlib                       3.7.1\n",
            "matplotlib-inline                0.1.6\n",
            "matplotlib-venn                  0.11.10\n",
            "mdit-py-plugins                  0.4.0\n",
            "mdurl                            0.1.2\n",
            "miniKanren                       1.0.3\n",
            "missingno                        0.5.2\n",
            "mistune                          0.8.4\n",
            "mizani                           0.9.3\n",
            "mkl                              2023.2.0\n",
            "ml-dtypes                        0.2.0\n",
            "mlxtend                          0.22.0\n",
            "more-itertools                   10.1.0\n",
            "moviepy                          1.0.3\n",
            "mpmath                           1.3.0\n",
            "msgpack                          1.0.7\n",
            "multidict                        6.0.4\n",
            "multipledispatch                 1.0.0\n",
            "multitasking                     0.0.11\n",
            "murmurhash                       1.0.10\n",
            "music21                          9.1.0\n",
            "natsort                          8.4.0\n",
            "nbclassic                        1.0.0\n",
            "nbclient                         0.9.0\n",
            "nbconvert                        6.5.4\n",
            "nbformat                         5.9.2\n",
            "nest-asyncio                     1.6.0\n",
            "networkx                         3.2.1\n",
            "nibabel                          4.0.2\n",
            "nltk                             3.8.1\n",
            "notebook                         6.5.5\n",
            "notebook_shim                    0.2.3\n",
            "numba                            0.58.1\n",
            "numexpr                          2.9.0\n",
            "numpy                            1.26.4\n",
            "oauth2client                     4.1.3\n",
            "oauthlib                         3.2.2\n",
            "opencv-contrib-python            4.8.0.76\n",
            "opencv-python                    4.8.0.76\n",
            "opencv-python-headless           4.9.0.80\n",
            "openpyxl                         3.1.2\n",
            "opt-einsum                       3.3.0\n",
            "optax                            0.1.8\n",
            "orbax-checkpoint                 0.4.4\n",
            "osqp                             0.6.2.post8\n",
            "packaging                        23.2\n",
            "pandas                           1.5.3\n",
            "pandas-datareader                0.10.0\n",
            "pandas-gbq                       0.19.2\n",
            "pandas-stubs                     1.5.3.230304\n",
            "pandocfilters                    1.5.1\n",
            "panel                            1.3.8\n",
            "param                            2.0.2\n",
            "parso                            0.8.3\n",
            "parsy                            2.1\n",
            "partd                            1.4.1\n",
            "pathlib                          1.0.1\n",
            "patsy                            0.5.6\n",
            "peewee                           3.17.0\n",
            "pexpect                          4.9.0\n",
            "pickleshare                      0.7.5\n",
            "Pillow                           9.4.0\n",
            "pins                             0.8.4\n",
            "pip                              23.1.2\n",
            "pip-tools                        6.13.0\n",
            "platformdirs                     4.2.0\n",
            "plotly                           5.15.0\n",
            "plotnine                         0.12.4\n",
            "pluggy                           1.4.0\n",
            "polars                           0.20.2\n",
            "pooch                            1.8.0\n",
            "portpicker                       1.5.2\n",
            "prefetch-generator               1.0.3\n",
            "preshed                          3.0.9\n",
            "prettytable                      3.9.0\n",
            "proglog                          0.1.10\n",
            "progressbar2                     4.2.0\n",
            "prometheus-client                0.19.0\n",
            "promise                          2.3\n",
            "prompt-toolkit                   3.0.43\n",
            "prophet                          1.1.5\n",
            "proto-plus                       1.23.0\n",
            "protobuf                         3.20.3\n",
            "psutil                           5.9.5\n",
            "psycopg2                         2.9.9\n",
            "ptyprocess                       0.7.0\n",
            "py-cpuinfo                       9.0.0\n",
            "py4j                             0.10.9.7\n",
            "pyarrow                          10.0.1\n",
            "pyarrow-hotfix                   0.6\n",
            "pyasn1                           0.5.1\n",
            "pyasn1-modules                   0.3.0\n",
            "pycocotools                      2.0.7\n",
            "pycparser                        2.21\n",
            "pyct                             0.5.0\n",
            "pydantic                         1.10.14\n",
            "pydata-google-auth               1.8.2\n",
            "pydot                            1.4.2\n",
            "pydot-ng                         2.0.0\n",
            "pydotplus                        2.0.2\n",
            "PyDrive                          1.3.1\n",
            "PyDrive2                         1.6.3\n",
            "pyerfa                           2.0.1.1\n",
            "pygame                           2.5.2\n",
            "Pygments                         2.16.1\n",
            "PyGObject                        3.42.1\n",
            "PyJWT                            2.3.0\n",
            "pymc                             5.7.2\n",
            "pymystem3                        0.2.0\n",
            "PyOpenGL                         3.1.7\n",
            "pyOpenSSL                        24.0.0\n",
            "pyparsing                        3.1.1\n",
            "pyperclip                        1.8.2\n",
            "pyproj                           3.6.1\n",
            "pyproject_hooks                  1.0.0\n",
            "pyshp                            2.3.1\n",
            "PySocks                          1.7.1\n",
            "pytensor                         2.14.2\n",
            "pytest                           7.4.4\n",
            "python-apt                       0.0.0\n",
            "python-box                       7.1.1\n",
            "python-dateutil                  2.8.2\n",
            "python-louvain                   0.16\n",
            "python-slugify                   8.0.3\n",
            "python-utils                     3.8.2\n",
            "pytz                             2023.4\n",
            "pyviz_comms                      3.0.1\n",
            "PyWavelets                       1.5.0\n",
            "PyYAML                           6.0.1\n",
            "pyzmq                            23.2.1\n",
            "qdldl                            0.1.7.post0\n",
            "qudida                           0.0.4\n",
            "ratelim                          0.1.6\n",
            "referencing                      0.33.0\n",
            "regex                            2023.12.25\n",
            "requests                         2.31.0\n",
            "requests-oauthlib                1.3.1\n",
            "requirements-parser              0.5.0\n",
            "rich                             13.7.0\n",
            "rpds-py                          0.17.1\n",
            "rpy2                             3.4.2\n",
            "rsa                              4.9\n",
            "safetensors                      0.4.2\n",
            "scikit-image                     0.19.3\n",
            "scikit-learn                     1.2.2\n",
            "scipy                            1.11.4\n",
            "scooby                           0.9.2\n",
            "scs                              3.2.4.post1\n",
            "seaborn                          0.13.1\n",
            "SecretStorage                    3.3.1\n",
            "Send2Trash                       1.8.2\n",
            "sentencepiece                    0.1.99\n",
            "setuptools                       67.7.2\n",
            "shapely                          2.0.2\n",
            "six                              1.16.0\n",
            "sklearn-pandas                   2.2.0\n",
            "smart-open                       6.4.0\n",
            "sniffio                          1.3.0\n",
            "snowballstemmer                  2.2.0\n",
            "sortedcontainers                 2.4.0\n",
            "soundfile                        0.12.1\n",
            "soupsieve                        2.5\n",
            "soxr                             0.3.7\n",
            "spacy                            3.7.2\n",
            "spacy-legacy                     3.0.12\n",
            "spacy-loggers                    1.0.5\n",
            "Sphinx                           5.0.2\n",
            "sphinxcontrib-applehelp          1.0.8\n",
            "sphinxcontrib-devhelp            1.0.6\n",
            "sphinxcontrib-htmlhelp           2.0.5\n",
            "sphinxcontrib-jsmath             1.0.1\n",
            "sphinxcontrib-qthelp             1.0.7\n",
            "sphinxcontrib-serializinghtml    1.1.10\n",
            "SQLAlchemy                       2.0.24\n",
            "sqlglot                          19.9.0\n",
            "sqlparse                         0.4.4\n",
            "srsly                            2.4.8\n",
            "stanio                           0.3.0\n",
            "statsmodels                      0.14.1\n",
            "sympy                            1.12\n",
            "tables                           3.8.0\n",
            "tabulate                         0.9.0\n",
            "tbb                              2021.11.0\n",
            "tblib                            3.0.0\n",
            "tenacity                         8.2.3\n",
            "tensorboard                      2.15.1\n",
            "tensorboard-data-server          0.7.2\n",
            "tensorflow                       2.15.0\n",
            "tensorflow-datasets              4.9.4\n",
            "tensorflow-estimator             2.15.0\n",
            "tensorflow-gcs-config            2.15.0\n",
            "tensorflow-hub                   0.16.1\n",
            "tensorflow-io-gcs-filesystem     0.35.0\n",
            "tensorflow-metadata              1.14.0\n",
            "tensorflow-probability           0.22.0\n",
            "tensorstore                      0.1.45\n",
            "termcolor                        2.4.0\n",
            "terminado                        0.18.0\n",
            "text-unidecode                   1.3\n",
            "textblob                         0.17.1\n",
            "tf-keras                         2.15.0\n",
            "tf-slim                          1.1.0\n",
            "thinc                            8.2.2\n",
            "threadpoolctl                    3.2.0\n",
            "tifffile                         2024.1.30\n",
            "tinycss2                         1.2.1\n",
            "tokenizers                       0.15.1\n",
            "toml                             0.10.2\n",
            "tomli                            2.0.1\n",
            "toolz                            0.12.1\n",
            "torch                            2.1.0+cu121\n",
            "torchaudio                       2.1.0+cu121\n",
            "torchdata                        0.7.0\n",
            "torchsummary                     1.5.1\n",
            "torchtext                        0.16.0\n",
            "torchvision                      0.16.0+cu121\n",
            "tornado                          6.3.2\n",
            "tqdm                             4.66.1\n",
            "traitlets                        5.7.1\n",
            "traittypes                       0.2.1\n",
            "transformers                     4.35.2\n",
            "triton                           2.1.0\n",
            "tweepy                           4.14.0\n",
            "typer                            0.9.0\n",
            "types-pytz                       2023.4.0.20240130\n",
            "types-setuptools                 69.0.0.20240125\n",
            "typing_extensions                4.5.0\n",
            "tzlocal                          5.2\n",
            "uc-micro-py                      1.0.2\n",
            "uritemplate                      4.1.1\n",
            "urllib3                          2.0.7\n",
            "vega-datasets                    0.9.0\n",
            "wadllib                          1.3.6\n",
            "wasabi                           1.1.2\n",
            "wcwidth                          0.2.13\n",
            "weasel                           0.3.4\n",
            "webcolors                        1.13\n",
            "webencodings                     0.5.1\n",
            "websocket-client                 1.7.0\n",
            "Werkzeug                         3.0.1\n",
            "wheel                            0.42.0\n",
            "widgetsnbextension               3.6.6\n",
            "wordcloud                        1.9.3\n",
            "wrapt                            1.14.1\n",
            "xarray                           2023.7.0\n",
            "xarray-einstats                  0.7.0\n",
            "xgboost                          2.0.3\n",
            "xlrd                             2.0.1\n",
            "xxhash                           3.4.1\n",
            "xyzservices                      2023.10.1\n",
            "yarl                             1.9.4\n",
            "yellowbrick                      1.5\n",
            "yfinance                         0.2.36\n",
            "zict                             3.0.0\n",
            "zipp                             3.17.0\n"
          ]
        }
      ]
    },
    {
      "cell_type": "code",
      "source": [
        "!pip list --outdated"
      ],
      "metadata": {
        "colab": {
          "base_uri": "https://localhost:8080/"
        },
        "id": "Dic-vB28QDS8",
        "outputId": "a5fa9bc5-50ec-4d33-c748-75d6c372d75b"
      },
      "execution_count": 14,
      "outputs": [
        {
          "output_type": "stream",
          "name": "stdout",
          "text": [
            "Package                          Version           Latest            Type\n",
            "-------------------------------- ----------------- ----------------- -----\n",
            "absl-py                          1.4.0             2.1.0             wheel\n",
            "altair                           4.2.2             5.2.0             wheel\n",
            "anyio                            3.7.1             4.2.0             wheel\n",
            "arviz                            0.15.1            0.17.0            wheel\n",
            "astropy                          5.3.4             6.0.0             wheel\n",
            "blinker                          1.4               1.7.0             wheel\n",
            "blis                             0.7.11            0.9.1             wheel\n",
            "blosc2                           2.0.0             2.5.1             wheel\n",
            "CacheControl                     0.13.1            0.14.0            wheel\n",
            "certifi                          2023.11.17        2024.2.2          wheel\n",
            "chex                             0.1.7             0.1.85            wheel\n",
            "cloudpathlib                     0.16.0            0.17.0            wheel\n",
            "cloudpickle                      2.2.1             3.0.0             wheel\n",
            "cmake                            3.27.9            3.28.1            wheel\n",
            "cmdstanpy                        1.2.0             1.2.1             wheel\n",
            "cupy-cuda12x                     12.2.0            13.0.0            wheel\n",
            "cvxpy                            1.3.3             1.4.2             wheel\n",
            "dask                             2023.8.1          2024.1.1          wheel\n",
            "dbus-python                      1.2.18            1.3.2             sdist\n",
            "debugpy                          1.6.6             1.8.0             wheel\n",
            "decorator                        4.4.2             5.1.1             wheel\n",
            "distributed                      2023.8.1          2024.1.1          wheel\n",
            "distro                           1.7.0             1.9.0             wheel\n",
            "docutils                         0.18.1            0.20.1            wheel\n",
            "firebase-admin                   5.3.0             6.4.0             wheel\n",
            "Flask                            2.2.5             3.0.2             wheel\n",
            "folium                           0.14.0            0.15.1            wheel\n",
            "fsspec                           2023.6.0          2024.2.0          wheel\n",
            "gcsfs                            2023.6.0          2024.2.0          wheel\n",
            "GDAL                             3.6.4             3.8.3             sdist\n",
            "gdown                            4.7.3             5.1.0             wheel\n",
            "geopandas                        0.13.2            0.14.3            wheel\n",
            "geopy                            2.3.0             2.4.1             wheel\n",
            "google                           2.0.3             3.0.0             wheel\n",
            "google-ai-generativelanguage     0.4.0             0.5.1             wheel\n",
            "google-api-core                  2.11.1            2.16.2            wheel\n",
            "google-api-python-client         2.84.0            2.116.0           wheel\n",
            "google-auth                      2.17.3            2.27.0            wheel\n",
            "google-auth-httplib2             0.1.1             0.2.0             wheel\n",
            "google-cloud-aiplatform          1.39.0            1.40.0            wheel\n",
            "google-cloud-bigquery            3.12.0            3.17.1            wheel\n",
            "google-cloud-bigquery-connection 1.12.1            1.15.0            wheel\n",
            "google-cloud-core                2.3.3             2.4.1             wheel\n",
            "google-cloud-datastore           2.15.2            2.19.0            wheel\n",
            "google-cloud-firestore           2.11.1            2.14.0            wheel\n",
            "google-cloud-functions           1.13.3            1.16.0            wheel\n",
            "google-cloud-iam                 2.13.0            2.14.0            wheel\n",
            "google-cloud-language            2.9.1             2.13.0            wheel\n",
            "google-cloud-resource-manager    1.11.0            1.12.0            wheel\n",
            "google-cloud-storage             2.8.0             2.14.0            wheel\n",
            "google-cloud-translate           3.11.3            3.15.0            wheel\n",
            "grpcio                           1.60.0            1.60.1            wheel\n",
            "grpcio-status                    1.48.2            1.60.1            wheel\n",
            "gspread                          3.4.2             6.0.0             wheel\n",
            "gym                              0.25.2            0.26.2            sdist\n",
            "h5py                             3.9.0             3.10.0            wheel\n",
            "holidays                         0.41              0.42              wheel\n",
            "holoviews                        1.17.1            1.18.2            wheel\n",
            "humanize                         4.7.0             4.9.0             wheel\n",
            "ibis-framework                   7.1.0             8.0.0             wheel\n",
            "imageio                          2.31.6            2.33.1            wheel\n",
            "imbalanced-learn                 0.10.1            0.12.0            wheel\n",
            "intel-openmp                     2023.2.3          2024.0.2          wheel\n",
            "ipykernel                        5.5.6             6.29.1            wheel\n",
            "ipython                          7.34.0            8.21.0            wheel\n",
            "ipywidgets                       7.7.1             8.1.1             wheel\n",
            "jeepney                          0.7.1             0.8.0             wheel\n",
            "jsonschema                       4.19.2            4.21.1            wheel\n",
            "jupyter-client                   6.1.12            8.6.0             wheel\n",
            "jupyter-console                  6.1.0             6.6.3             wheel\n",
            "jupyter-server                   1.24.0            2.12.5            wheel\n",
            "kaggle                           1.5.16            1.6.4             sdist\n",
            "kagglehub                        0.1.8             0.1.9             wheel\n",
            "keras                            2.15.0            3.0.4             wheel\n",
            "keyring                          23.5.0            24.3.0            wheel\n",
            "launchpadlib                     1.10.16           1.11.0            wheel\n",
            "lazr.restfulclient               0.14.4            0.14.6            wheel\n",
            "lida                             0.0.10            0.0.11            wheel\n",
            "lightgbm                         4.1.0             4.3.0             wheel\n",
            "linkify-it-py                    2.0.2             2.0.3             wheel\n",
            "llvmlite                         0.41.1            0.42.0            wheel\n",
            "lxml                             4.9.4             5.1.0             wheel\n",
            "malloy                           2023.1067         2024.1072         wheel\n",
            "MarkupSafe                       2.1.4             2.1.5             wheel\n",
            "matplotlib                       3.7.1             3.8.2             wheel\n",
            "mistune                          0.8.4             3.0.2             wheel\n",
            "mizani                           0.9.3             0.10.0            wheel\n",
            "mkl                              2023.2.0          2024.0.0          wheel\n",
            "ml-dtypes                        0.2.0             0.3.2             wheel\n",
            "mlxtend                          0.22.0            0.23.1            wheel\n",
            "more-itertools                   10.1.0            10.2.0            wheel\n",
            "multidict                        6.0.4             6.0.5             wheel\n",
            "nbconvert                        6.5.4             7.15.0            wheel\n",
            "nibabel                          4.0.2             5.2.0             wheel\n",
            "notebook                         6.5.5             7.0.7             wheel\n",
            "numba                            0.58.1            0.59.0            wheel\n",
            "opencv-contrib-python            4.8.0.76          4.9.0.80          wheel\n",
            "opencv-python                    4.8.0.76          4.9.0.80          wheel\n",
            "optax                            0.1.8             0.1.9             wheel\n",
            "orbax-checkpoint                 0.4.4             0.5.3             wheel\n",
            "osqp                             0.6.2.post8       0.6.5             wheel\n",
            "pandas                           1.5.3             2.2.0             wheel\n",
            "pandas-gbq                       0.19.2            0.21.0            wheel\n",
            "pandas-stubs                     1.5.3.230304      2.1.4.231227      wheel\n",
            "peewee                           3.17.0            3.17.1            sdist\n",
            "Pillow                           9.4.0             10.2.0            wheel\n",
            "pip                              23.1.2            24.0              wheel\n",
            "pip-tools                        6.13.0            7.3.0             wheel\n",
            "plotly                           5.15.0            5.18.0            wheel\n",
            "polars                           0.20.2            0.20.7            wheel\n",
            "portpicker                       1.5.2             1.6.0             wheel\n",
            "progressbar2                     4.2.0             4.3.2             wheel\n",
            "protobuf                         3.20.3            4.25.2            wheel\n",
            "psutil                           5.9.5             5.9.8             wheel\n",
            "pyarrow                          10.0.1            15.0.0            wheel\n",
            "pydantic                         1.10.14           2.6.1             wheel\n",
            "pydot                            1.4.2             2.0.0             wheel\n",
            "PyDrive2                         1.6.3             1.19.0            wheel\n",
            "Pygments                         2.16.1            2.17.2            wheel\n",
            "PyGObject                        3.42.1            3.46.0            sdist\n",
            "PyJWT                            2.3.0             2.8.0             wheel\n",
            "pymc                             5.7.2             5.10.3            wheel\n",
            "pytensor                         2.14.2            2.18.6            wheel\n",
            "pytest                           7.4.4             8.0.0             wheel\n",
            "pytz                             2023.4            2024.1            wheel\n",
            "pyzmq                            23.2.1            25.1.2            wheel\n",
            "rpy2                             3.4.2             3.5.15            sdist\n",
            "scikit-image                     0.19.3            0.22.0            wheel\n",
            "scikit-learn                     1.2.2             1.4.0             wheel\n",
            "scipy                            1.11.4            1.12.0            wheel\n",
            "seaborn                          0.13.1            0.13.2            wheel\n",
            "SecretStorage                    3.3.1             3.3.3             wheel\n",
            "setuptools                       67.7.2            69.0.3            wheel\n",
            "Sphinx                           5.0.2             7.2.6             wheel\n",
            "SQLAlchemy                       2.0.24            2.0.25            wheel\n",
            "sqlglot                          19.9.0            20.11.0           wheel\n",
            "stanio                           0.3.0             0.4.0             wheel\n",
            "tables                           3.8.0             3.9.2             wheel\n",
            "tensorflow                       2.15.0            2.15.0.post1      wheel\n",
            "tensorflow-io-gcs-filesystem     0.35.0            0.36.0            wheel\n",
            "tensorflow-probability           0.22.0            0.23.0            wheel\n",
            "tensorstore                      0.1.45            0.1.53            wheel\n",
            "torch                            2.1.0+cu121       2.2.0             wheel\n",
            "torchaudio                       2.1.0+cu121       2.2.0             wheel\n",
            "torchdata                        0.7.0             0.7.1             wheel\n",
            "torchtext                        0.16.0            0.17.0            wheel\n",
            "torchvision                      0.16.0+cu121      0.17.0            wheel\n",
            "tornado                          6.3.2             6.4               wheel\n",
            "traitlets                        5.7.1             5.14.1            wheel\n",
            "transformers                     4.35.2            4.37.2            wheel\n",
            "triton                           2.1.0             2.2.0             wheel\n",
            "types-pytz                       2023.4.0.20240130 2024.1.0.20240203 wheel\n",
            "typing_extensions                4.5.0             4.9.0             wheel\n",
            "urllib3                          2.0.7             2.2.0             wheel\n",
            "widgetsnbextension               3.6.6             4.0.9             wheel\n",
            "wrapt                            1.14.1            1.16.0            wheel\n",
            "xarray                           2023.7.0          2024.1.1          wheel\n"
          ]
        }
      ]
    },
    {
      "cell_type": "markdown",
      "source": [
        "##Pickle"
      ],
      "metadata": {
        "id": "z_oWPPHaeRzh"
      }
    },
    {
      "cell_type": "markdown",
      "source": [
        "saving a model in a file is called a serilization\n",
        "and removing it is called as deserilization"
      ],
      "metadata": {
        "id": "RFnI7aLBfBuq"
      }
    },
    {
      "cell_type": "code",
      "source": [
        "'''\n",
        "import pickle\n",
        "from sklearn.ensemble import RandomForestClassifier\n",
        "\n",
        "model = RandomForestClassifier()\n",
        "model.fit(x_train, y_train)\n",
        "\n",
        "with open('model.pkl', ''wb) as file:\n",
        "  pickle.dump(model, file)\n",
        "'''"
      ],
      "metadata": {
        "colab": {
          "base_uri": "https://localhost:8080/",
          "height": 52
        },
        "id": "LQn0doG6clNE",
        "outputId": "a0880f17-a551-488f-e23e-faf285f4d2db"
      },
      "execution_count": 16,
      "outputs": [
        {
          "output_type": "execute_result",
          "data": {
            "text/plain": [
              "\"\\nimport pickle \\nfrom sklearn.ensemble import RandomForestClassifier\\n\\nmodel = RandomForestClassifier()\\nmodel.fit(x_train, y_train)\\n\\nwith open('model.pkl', ''wb) as file:\\n  pickle.dump(model, file)\\n\""
            ],
            "application/vnd.google.colaboratory.intrinsic+json": {
              "type": "string"
            }
          },
          "metadata": {},
          "execution_count": 16
        }
      ]
    },
    {
      "cell_type": "markdown",
      "source": [
        "##Joblib"
      ],
      "metadata": {
        "id": "KwQe7_TVerZp"
      }
    },
    {
      "cell_type": "markdown",
      "source": [
        "another way of dumping the model using joblib"
      ],
      "metadata": {
        "id": "nEj1F7klfMtw"
      }
    },
    {
      "cell_type": "code",
      "source": [
        "'''\n",
        "from joblib import dump,load\n",
        "from sklearn.svm import SVC\n",
        "model= SVC()\n",
        "model.fit(x_train, y_train)\n",
        "dump(model, 'model.joblib')\n",
        "\n",
        "load_model = load('model.joblib')\n",
        "predictions = load_model.predict(x_test)\n",
        "'''"
      ],
      "metadata": {
        "colab": {
          "base_uri": "https://localhost:8080/",
          "height": 52
        },
        "id": "0G2dqlOaeUFq",
        "outputId": "0c11355e-c78f-40e5-e175-bce1d256cd95"
      },
      "execution_count": 17,
      "outputs": [
        {
          "output_type": "execute_result",
          "data": {
            "text/plain": [
              "\"\\nfrom joblib import dump,load\\nfrom sklearn.svm import SVC\\nmodel= SVC()\\nmodel.fit(x_train, y_train)\\ndump(model, 'model.joblib')\\n\\nload_model = load('model.joblib')\\npredictions = load_model.predict(x_test)\\n\""
            ],
            "application/vnd.google.colaboratory.intrinsic+json": {
              "type": "string"
            }
          },
          "metadata": {},
          "execution_count": 17
        }
      ]
    },
    {
      "cell_type": "markdown",
      "source": [
        "##Stroing a tensorflow model"
      ],
      "metadata": {
        "id": "O4pd8XywfT1G"
      }
    },
    {
      "cell_type": "markdown",
      "source": [
        "saving format in tensorflow"
      ],
      "metadata": {
        "id": "jtIQYTjHgIVT"
      }
    },
    {
      "cell_type": "code",
      "source": [
        "'''\n",
        "import tensorflow as tf\n",
        "model = tf.keras.Sequential([...])\n",
        "model.compile(...)\n",
        "history = model.fit(x_train,y_train, ... parameters... )\n",
        "m_test,r_test = model.evaluate(x_test,y_test)\n",
        "model.save(\"california_prediction\", save_format='tf')\n",
        "\n",
        "load_model = tf.keras.model.load_model(\".....filename.....\")\n",
        "predictions - load_model.predict(x_test)\n",
        "'''"
      ],
      "metadata": {
        "id": "6044vWy-e_7K"
      },
      "execution_count": null,
      "outputs": []
    },
    {
      "cell_type": "markdown",
      "source": [
        "##Flask\n",
        "It helps in loading the input from the client to the ml model"
      ],
      "metadata": {
        "id": "slnmZ4NphEqT"
      }
    },
    {
      "cell_type": "code",
      "source": [
        "from flask import Flask, request, jsonify\n",
        "import joblib\n",
        "import logging\n",
        "from logging.handlers import RotatingFileHandler"
      ],
      "metadata": {
        "id": "fBFMTFLEhQJF"
      },
      "execution_count": 21,
      "outputs": []
    },
    {
      "cell_type": "code",
      "source": [
        "app = Flask(__name__)"
      ],
      "metadata": {
        "id": "j8Dj6bgvh6zt"
      },
      "execution_count": 22,
      "outputs": []
    },
    {
      "cell_type": "code",
      "source": [
        "Model_path = 'path_of_our_model.joblib'"
      ],
      "metadata": {
        "id": "GUWAY51piBgP"
      },
      "execution_count": 23,
      "outputs": []
    },
    {
      "cell_type": "code",
      "source": [
        "try:\n",
        "  model= joblib.load(Model_path)\n",
        "  print(\"runned successfully\")\n",
        "except Exception as e:\n",
        "  model= None\n",
        "  print(f'this exception{e} has occured')"
      ],
      "metadata": {
        "colab": {
          "base_uri": "https://localhost:8080/"
        },
        "id": "eSv8Qut9i3Bm",
        "outputId": "06af4650-b682-4ca7-fd5f-d0cde3e7e6b1"
      },
      "execution_count": 26,
      "outputs": [
        {
          "output_type": "stream",
          "name": "stdout",
          "text": [
            "this exception[Errno 2] No such file or directory: 'path_of_our_model.joblib' has occured\n"
          ]
        }
      ]
    },
    {
      "cell_type": "code",
      "source": [
        "handler = RotatingFileHandler('api_logs.log',maxBytes=1000, backupCount=3)\n",
        "logger = logging.getLogger(__name__)\n",
        "logger.setLevel(logging.INFO)\n",
        "logger.addHandler(handler)"
      ],
      "metadata": {
        "id": "OFS0dN_nk800"
      },
      "execution_count": 105,
      "outputs": []
    },
    {
      "cell_type": "code",
      "source": [
        "@app.route('/predict',methods=['POST'])\n",
        "def predict():\n",
        "  if model:\n",
        "    try:\n",
        "      data = request.get_json(force=True)\n",
        "      features = data['features']\n",
        "      prediction = model.predict([features])\n",
        "      return jsonify({'prediction': prediction.tolist()}), 200\n",
        "    except:\n",
        "      logger.error(f\"Prediction error:{e}\",, exc_info= True)\n",
        "      return jsonify({'error':'Error processing request'}), 500\n",
        "  else:\n",
        "    logger.error(\"model not loaded\")\n",
        "    return jsonify({'error':'Model not loaded'}), 500\n",
        "\n",
        "\n",
        "if __name__ == '__main__':\n",
        "   logger.info(\"Starting the flask api\")\n",
        "   app.run(debug=True)"
      ],
      "metadata": {
        "id": "sa6Zkm-V1zTk"
      },
      "execution_count": null,
      "outputs": []
    },
    {
      "cell_type": "markdown",
      "source": [
        "##Case Study"
      ],
      "metadata": {
        "id": "7H4PGZ7enr3p"
      }
    },
    {
      "cell_type": "code",
      "source": [
        "!mkdir -p ~/.kaggle\n",
        "!cp kaggle.json ~/.kaggle/"
      ],
      "metadata": {
        "id": "cB3pdwt7nCFO"
      },
      "execution_count": 29,
      "outputs": []
    },
    {
      "cell_type": "code",
      "source": [
        "import seaborn as sns\n",
        "import pandas as pd"
      ],
      "metadata": {
        "id": "ZZFytNxqnuyT"
      },
      "execution_count": 52,
      "outputs": []
    },
    {
      "cell_type": "code",
      "source": [
        "df = sns.load_dataset('titanic')"
      ],
      "metadata": {
        "id": "0r2ttTOvn72_"
      },
      "execution_count": 60,
      "outputs": []
    },
    {
      "cell_type": "code",
      "source": [
        "print(df)"
      ],
      "metadata": {
        "colab": {
          "base_uri": "https://localhost:8080/"
        },
        "id": "jWEiwqqDoA1m",
        "outputId": "7aed0ab2-c537-402b-86c2-93b536e733f2"
      },
      "execution_count": 64,
      "outputs": [
        {
          "output_type": "stream",
          "name": "stdout",
          "text": [
            "     survived  pclass     sex   age  sibsp  parch     fare embarked   class  \\\n",
            "0           0       3    male  22.0      1      0   7.2500        S   Third   \n",
            "1           1       1  female  38.0      1      0  71.2833        C   First   \n",
            "2           1       3  female  26.0      0      0   7.9250        S   Third   \n",
            "3           1       1  female  35.0      1      0  53.1000        S   First   \n",
            "4           0       3    male  35.0      0      0   8.0500        S   Third   \n",
            "..        ...     ...     ...   ...    ...    ...      ...      ...     ...   \n",
            "886         0       2    male  27.0      0      0  13.0000        S  Second   \n",
            "887         1       1  female  19.0      0      0  30.0000        S   First   \n",
            "888         0       3  female   NaN      1      2  23.4500        S   Third   \n",
            "889         1       1    male  26.0      0      0  30.0000        C   First   \n",
            "890         0       3    male  32.0      0      0   7.7500        Q   Third   \n",
            "\n",
            "       who  adult_male deck  embark_town alive  alone  \n",
            "0      man        True  NaN  Southampton    no  False  \n",
            "1    woman       False    C    Cherbourg   yes  False  \n",
            "2    woman       False  NaN  Southampton   yes   True  \n",
            "3    woman       False    C  Southampton   yes  False  \n",
            "4      man        True  NaN  Southampton    no   True  \n",
            "..     ...         ...  ...          ...   ...    ...  \n",
            "886    man        True  NaN  Southampton    no   True  \n",
            "887  woman       False    B  Southampton   yes   True  \n",
            "888  woman       False  NaN  Southampton    no  False  \n",
            "889    man        True    C    Cherbourg   yes   True  \n",
            "890    man        True  NaN   Queenstown    no   True  \n",
            "\n",
            "[891 rows x 15 columns]\n"
          ]
        }
      ]
    },
    {
      "cell_type": "code",
      "source": [
        "!pip3 install virtualenv\n",
        "!virtualenv theanoEnv"
      ],
      "metadata": {
        "colab": {
          "base_uri": "https://localhost:8080/"
        },
        "id": "xVqYIVOtp-Xc",
        "outputId": "f7898c59-18a2-47f7-ecf5-3a53e77dfbf9"
      },
      "execution_count": 65,
      "outputs": [
        {
          "output_type": "stream",
          "name": "stdout",
          "text": [
            "\u001b[33mWARNING: Ignoring invalid distribution -orch (/usr/local/lib/python3.10/dist-packages)\u001b[0m\u001b[33m\n",
            "\u001b[0mCollecting virtualenv\n",
            "  Downloading virtualenv-20.25.0-py3-none-any.whl (3.8 MB)\n",
            "\u001b[2K     \u001b[90m━━━━━━━━━━━━━━━━━━━━━━━━━━━━━━━━━━━━━━━━\u001b[0m \u001b[32m3.8/3.8 MB\u001b[0m \u001b[31m17.1 MB/s\u001b[0m eta \u001b[36m0:00:00\u001b[0m\n",
            "\u001b[?25hCollecting distlib<1,>=0.3.7 (from virtualenv)\n",
            "  Downloading distlib-0.3.8-py2.py3-none-any.whl (468 kB)\n",
            "\u001b[2K     \u001b[90m━━━━━━━━━━━━━━━━━━━━━━━━━━━━━━━━━━━━━━━━\u001b[0m \u001b[32m468.9/468.9 kB\u001b[0m \u001b[31m22.1 MB/s\u001b[0m eta \u001b[36m0:00:00\u001b[0m\n",
            "\u001b[?25hRequirement already satisfied: filelock<4,>=3.12.2 in /usr/local/lib/python3.10/dist-packages (from virtualenv) (3.13.1)\n",
            "Requirement already satisfied: platformdirs<5,>=3.9.1 in /usr/local/lib/python3.10/dist-packages (from virtualenv) (4.2.0)\n",
            "\u001b[33mWARNING: Ignoring invalid distribution -orch (/usr/local/lib/python3.10/dist-packages)\u001b[0m\u001b[33m\n",
            "\u001b[0mInstalling collected packages: distlib, virtualenv\n",
            "Successfully installed distlib-0.3.8 virtualenv-20.25.0\n",
            "created virtual environment CPython3.10.12.final.0-64 in 1047ms\n",
            "  creator CPython3Posix(dest=/content/theanoEnv, clear=False, no_vcs_ignore=False, global=False)\n",
            "  seeder FromAppData(download=False, pip=bundle, setuptools=bundle, wheel=bundle, via=copy, app_data_dir=/root/.local/share/virtualenv)\n",
            "    added seed packages: pip==23.3.1, setuptools==69.0.2, wheel==0.42.0\n",
            "  activators BashActivator,CShellActivator,FishActivator,NushellActivator,PowerShellActivator,PythonActivator\n"
          ]
        }
      ]
    },
    {
      "cell_type": "code",
      "source": [
        "!source /content/theanoEnv/bin/activate; pip3 install theano"
      ],
      "metadata": {
        "colab": {
          "base_uri": "https://localhost:8080/"
        },
        "id": "l5CSy3zVsQwb",
        "outputId": "da8ee4d9-ee0a-4da2-9a2a-00d32a209e05"
      },
      "execution_count": 66,
      "outputs": [
        {
          "output_type": "stream",
          "name": "stdout",
          "text": [
            "Collecting theano\n",
            "  Downloading Theano-1.0.5.tar.gz (2.8 MB)\n",
            "\u001b[2K     \u001b[90m━━━━━━━━━━━━━━━━━━━━━━━━━━━━━━━━━━━━━━━━\u001b[0m \u001b[32m2.8/2.8 MB\u001b[0m \u001b[31m14.2 MB/s\u001b[0m eta \u001b[36m0:00:00\u001b[0m\n",
            "\u001b[?25h  Preparing metadata (setup.py) ... \u001b[?25l\u001b[?25hdone\n",
            "Collecting numpy>=1.9.1 (from theano)\n",
            "  Downloading numpy-1.26.4-cp310-cp310-manylinux_2_17_x86_64.manylinux2014_x86_64.whl.metadata (61 kB)\n",
            "\u001b[2K     \u001b[90m━━━━━━━━━━━━━━━━━━━━━━━━━━━━━━━━━━━━━━━━\u001b[0m \u001b[32m61.0/61.0 kB\u001b[0m \u001b[31m3.5 MB/s\u001b[0m eta \u001b[36m0:00:00\u001b[0m\n",
            "\u001b[?25hCollecting scipy>=0.14 (from theano)\n",
            "  Downloading scipy-1.12.0-cp310-cp310-manylinux_2_17_x86_64.manylinux2014_x86_64.whl.metadata (60 kB)\n",
            "\u001b[2K     \u001b[90m━━━━━━━━━━━━━━━━━━━━━━━━━━━━━━━━━━━━━━━━\u001b[0m \u001b[32m60.4/60.4 kB\u001b[0m \u001b[31m3.6 MB/s\u001b[0m eta \u001b[36m0:00:00\u001b[0m\n",
            "\u001b[?25hCollecting six>=1.9.0 (from theano)\n",
            "  Downloading six-1.16.0-py2.py3-none-any.whl (11 kB)\n",
            "Downloading numpy-1.26.4-cp310-cp310-manylinux_2_17_x86_64.manylinux2014_x86_64.whl (18.2 MB)\n",
            "\u001b[2K   \u001b[90m━━━━━━━━━━━━━━━━━━━━━━━━━━━━━━━━━━━━━━━━\u001b[0m \u001b[32m18.2/18.2 MB\u001b[0m \u001b[31m45.7 MB/s\u001b[0m eta \u001b[36m0:00:00\u001b[0m\n",
            "\u001b[?25hDownloading scipy-1.12.0-cp310-cp310-manylinux_2_17_x86_64.manylinux2014_x86_64.whl (38.4 MB)\n",
            "\u001b[2K   \u001b[90m━━━━━━━━━━━━━━━━━━━━━━━━━━━━━━━━━━━━━━━━\u001b[0m \u001b[32m38.4/38.4 MB\u001b[0m \u001b[31m11.7 MB/s\u001b[0m eta \u001b[36m0:00:00\u001b[0m\n",
            "\u001b[?25hBuilding wheels for collected packages: theano\n",
            "  Building wheel for theano (setup.py) ... \u001b[?25l\u001b[?25hdone\n",
            "  Created wheel for theano: filename=Theano-1.0.5-py3-none-any.whl size=2668109 sha256=29d42b4b7251cccbd7c2421f57da4864e1b3c2d8e92a80a6ee391d0996d1d5ec\n",
            "  Stored in directory: /root/.cache/pip/wheels/d9/e6/7d/2267d21a99e4ab8276f976f293b4ff23f50c9d809f4a216ebb\n",
            "Successfully built theano\n",
            "Installing collected packages: six, numpy, scipy, theano\n",
            "Successfully installed numpy-1.26.4 scipy-1.12.0 six-1.16.0 theano-1.0.5\n"
          ]
        }
      ]
    },
    {
      "cell_type": "code",
      "source": [
        "!source /content/theanoEnv/bin/activate; pip3 list"
      ],
      "metadata": {
        "colab": {
          "base_uri": "https://localhost:8080/"
        },
        "id": "H5ESIunCsckd",
        "outputId": "e0ec8989-2704-44a9-e2f1-ad9297046d34"
      },
      "execution_count": 67,
      "outputs": [
        {
          "output_type": "stream",
          "name": "stdout",
          "text": [
            "Package    Version\n",
            "---------- -------\n",
            "numpy      1.26.4\n",
            "pip        23.3.1\n",
            "scipy      1.12.0\n",
            "setuptools 69.0.2\n",
            "six        1.16.0\n",
            "Theano     1.0.5\n",
            "wheel      0.42.0\n"
          ]
        }
      ]
    },
    {
      "cell_type": "code",
      "source": [
        "!source /content/theanoEnv/bin/activate; pip3 install robotframework; pip3 list; python3 -m robot --help"
      ],
      "metadata": {
        "colab": {
          "base_uri": "https://localhost:8080/"
        },
        "id": "C-99UkYwsfqH",
        "outputId": "3b9a9cbe-860e-4cfe-a679-39efbc1de29f"
      },
      "execution_count": 68,
      "outputs": [
        {
          "output_type": "stream",
          "name": "stdout",
          "text": [
            "Collecting robotframework\n",
            "  Downloading robotframework-7.0-py3-none-any.whl.metadata (7.4 kB)\n",
            "Downloading robotframework-7.0-py3-none-any.whl (726 kB)\n",
            "\u001b[2K   \u001b[90m━━━━━━━━━━━━━━━━━━━━━━━━━━━━━━━━━━━━━━━━\u001b[0m \u001b[32m726.3/726.3 kB\u001b[0m \u001b[31m3.6 MB/s\u001b[0m eta \u001b[36m0:00:00\u001b[0m\n",
            "\u001b[?25hInstalling collected packages: robotframework\n",
            "Successfully installed robotframework-7.0\n",
            "Package        Version\n",
            "-------------- -------\n",
            "numpy          1.26.4\n",
            "pip            23.3.1\n",
            "robotframework 7.0\n",
            "scipy          1.12.0\n",
            "setuptools     69.0.2\n",
            "six            1.16.0\n",
            "Theano         1.0.5\n",
            "wheel          0.42.0\n",
            "Robot Framework -- A generic automation framework\n",
            "\n",
            "Version:  7.0 (Python 3.10.12 on linux)\n",
            "\n",
            "Usage:  robot [options] paths\n",
            "   or:  python -m robot [options] paths\n",
            "   or:  python path/to/robot [options] paths\n",
            "\n",
            "Robot Framework is a generic open source automation framework for acceptance\n",
            "testing, acceptance test-driven development (ATDD) and robotic process\n",
            "automation (RPA). It has simple, easy-to-use syntax that utilizes the\n",
            "keyword-driven automation approach. Keywords adding new capabilities are\n",
            "implemented in libraries using Python. New higher level\n",
            "keywords can also be created using Robot Framework's own syntax.\n",
            "\n",
            "The easiest way to execute Robot Framework is using the `robot` command created\n",
            "as part of the normal installation. Alternatively it is possible to execute\n",
            "the `robot` module directly like `python -m robot`, where `python` can be\n",
            "replaced with any supported Python interpreter. Yet another alternative\n",
            "is running the `robot` directory like `python path/to/robot`.\n",
            "\n",
            "Tests (or tasks in RPA terminology) are created in files typically having the\n",
            "`*.robot` extension. Files automatically create test (or task) suites and\n",
            "directories with these files create higher level suites. When Robot Framework\n",
            "is executed, paths to these files or directories are given to it as arguments.\n",
            "\n",
            "By default Robot Framework creates an XML output file and a log and a report in\n",
            "HTML format, but this can be configured using various options listed below.\n",
            "Outputs in HTML format are for human consumption and XML output for integration\n",
            "with other systems. XML outputs can also be combined and otherwise further\n",
            "post-processed with the Rebot tool that is an integral part of Robot Framework.\n",
            "Run `rebot --help` for more information.\n",
            "\n",
            "Robot Framework is open source software released under Apache License 2.0.\n",
            "For more information about the framework and the rich ecosystem around it\n",
            "see http://robotframework.org/.\n",
            "\n",
            "Options\n",
            "=======\n",
            "\n",
            "    --rpa                 Turn on the generic automation mode. Mainly affects\n",
            "                          terminology so that \"test\" is replaced with \"task\"\n",
            "                          in logs and reports. By default the mode is got\n",
            "                          from test/task header in data files.\n",
            "    --language lang *     Activate localization. `lang` can be a name or a code\n",
            "                          of a built-in language, or a path or a module name of\n",
            "                          a custom language file.\n",
            " -F --extension value     Parse only files with this extension when executing\n",
            "                          a directory. Has no effect when running individual\n",
            "                          files or when using resource files. If more than one\n",
            "                          extension is needed, separate them with a colon.\n",
            "                          Examples: `--extension txt`, `--extension robot:txt`\n",
            "                          Only `*.robot` files are parsed by default.\n",
            " -I --parseinclude pattern *  Parse only files matching `pattern`. It can be:\n",
            "                          - a file name or pattern like `example.robot` or\n",
            "                            `*.robot` to parse all files matching that name,\n",
            "                          - a file path like `path/to/example.robot`, or\n",
            "                          - a directory path like `path/to/example` to parse\n",
            "                            all files in that directory, recursively.\n",
            " -N --name name           Set the name of the top level suite. By default the\n",
            "                          name is created based on the executed file or\n",
            "                          directory.\n",
            " -D --doc documentation   Set the documentation of the top level suite.\n",
            "                          Simple formatting is supported (e.g. *bold*). If the\n",
            "                          documentation contains spaces, it must be quoted.\n",
            "                          If the value is path to an existing file, actual\n",
            "                          documentation is read from that file.\n",
            "                          Examples: --doc \"Very *good* example\"\n",
            "                                    --doc doc_from_file.txt\n",
            " -M --metadata name:value *  Set metadata of the top level suite. Value can\n",
            "                          contain formatting and be read from a file similarly\n",
            "                          as --doc. Example: --metadata Version:1.2\n",
            " -G --settag tag *        Sets given tag(s) to all executed tests.\n",
            " -t --test name *         Select tests by name or by long name containing also\n",
            "                          parent suite name like `Parent.Test`. Name is case\n",
            "                          and space insensitive and it can also be a simple\n",
            "                          pattern where `*` matches anything, `?` matches any\n",
            "                          single character, and `[chars]` matches one character\n",
            "                          in brackets.\n",
            "    --task name *         Alias to --test. Especially applicable with --rpa.\n",
            " -s --suite name *        Select suites by name. When this option is used with\n",
            "                          --test, --include or --exclude, only tests in\n",
            "                          matching suites and also matching other filtering\n",
            "                          criteria are selected. Name can be a simple pattern\n",
            "                          similarly as with --test and it can contain parent\n",
            "                          name separated with a dot. For example, `-s X.Y`\n",
            "                          selects suite `Y` only if its parent is `X`.\n",
            " -i --include tag *       Select tests by tag. Similarly as name with --test,\n",
            "                          tag is case and space insensitive and it is possible\n",
            "                          to use patterns with `*`, `?` and `[]` as wildcards.\n",
            "                          Tags and patterns can also be combined together with\n",
            "                          `AND`, `OR`, and `NOT` operators.\n",
            "                          Examples: --include foo --include bar*\n",
            "                                    --include fooANDbar*\n",
            " -e --exclude tag *       Select test cases not to run by tag. These tests are\n",
            "                          not run even if included with --include. Tags are\n",
            "                          matched using same rules as with --include.\n",
            " -R --rerunfailed output  Select failed tests from an earlier output file to be\n",
            "                          re-executed. Equivalent to selecting same tests\n",
            "                          individually using --test.\n",
            " -S --rerunfailedsuites output  Select failed suites from an earlier output\n",
            "                          file to be re-executed.\n",
            "    --runemptysuite       Executes suite even if it contains no tests. Useful\n",
            "                          e.g. with --include/--exclude when it is not an error\n",
            "                          that no test matches the condition.\n",
            "    --skip tag *          Tests having given tag will be skipped. Tag can be\n",
            "                          a pattern.\n",
            "    --skiponfailure tag *  Tests having given tag will be skipped if they fail.\n",
            "                          Tag can be a pattern\n",
            " -v --variable name:value *  Set variables in the test data. Only scalar\n",
            "                          variables with string value are supported and name is\n",
            "                          given without `${}`. See --variablefile for a more\n",
            "                          powerful variable setting mechanism.\n",
            "                          Examples:\n",
            "                          --variable name:Robot  =>  ${name} = `Robot`\n",
            "                          -v \"hello:Hello world\" =>  ${hello} = `Hello world`\n",
            "                          -v x: -v y:42          =>  ${x} = ``, ${y} = `42`\n",
            " -V --variablefile path *  Python or YAML file file to read variables from.\n",
            "                          Possible arguments to the variable file can be given\n",
            "                          after the path using colon or semicolon as separator.\n",
            "                          Examples: --variablefile path/vars.yaml\n",
            "                                    --variablefile environment.py:testing\n",
            " -d --outputdir dir       Where to create output files. The default is the\n",
            "                          directory where tests are run from and the given path\n",
            "                          is considered relative to that unless it is absolute.\n",
            " -o --output file         XML output file. Given path, similarly as paths given\n",
            "                          to --log, --report, --xunit, and --debugfile, is\n",
            "                          relative to --outputdir unless given as an absolute\n",
            "                          path. Other output files are created based on XML\n",
            "                          output files after the test execution and XML outputs\n",
            "                          can also be further processed with Rebot tool. Can be\n",
            "                          disabled by giving a special value `NONE`.\n",
            "                          Default: output.xml\n",
            "    --legacyoutput        Create XML output file in format compatible with\n",
            "                          Robot Framework 6.x and earlier.\n",
            " -l --log file            HTML log file. Can be disabled by giving a special\n",
            "                          value `NONE`. Default: log.html\n",
            "                          Examples: `--log mylog.html`, `-l NONE`\n",
            " -r --report file         HTML report file. Can be disabled with `NONE`\n",
            "                          similarly as --log. Default: report.html\n",
            " -x --xunit file          xUnit compatible result file. Not created unless this\n",
            "                          option is specified.\n",
            " -b --debugfile file      Debug file written during execution. Not created\n",
            "                          unless this option is specified.\n",
            " -T --timestampoutputs    When this option is used, timestamp in a format\n",
            "                          `YYYYMMDD-hhmmss` is added to all generated output\n",
            "                          files between their basename and extension. For\n",
            "                          example `-T -o output.xml -r report.html -l none`\n",
            "                          creates files like `output-20070503-154410.xml` and\n",
            "                          `report-20070503-154410.html`.\n",
            "    --splitlog            Split the log file into smaller pieces that open in\n",
            "                          browsers transparently.\n",
            "    --logtitle title      Title for the generated log file. The default title\n",
            "                          is `<SuiteName> Log`.\n",
            "    --reporttitle title   Title for the generated report file. The default\n",
            "                          title is `<SuiteName> Report`.\n",
            "    --reportbackground colors  Background colors to use in the report file.\n",
            "                          Given in format `passed:failed:skipped` where the\n",
            "                          `:skipped` part can be omitted. Both color names and\n",
            "                          codes work.\n",
            "                          Examples: --reportbackground green:red:yellow\n",
            "                                    --reportbackground #00E:#E00\n",
            "    --maxerrorlines lines  Maximum number of error message lines to show in\n",
            "                          report when tests fail. Default is 40, minimum is 10\n",
            "                          and `NONE` can be used to show the full message.\n",
            "    --maxassignlength characters  Maximum number of characters to show in log\n",
            "                          when variables are assigned. Zero or negative values\n",
            "                          can be used to avoid showing assigned values at all.\n",
            "                          Default is 200.\n",
            " -L --loglevel level      Threshold level for logging. Available levels: TRACE,\n",
            "                          DEBUG, INFO (default), WARN, NONE (no logging). Use\n",
            "                          syntax `LOGLEVEL:DEFAULT` to define the default\n",
            "                          visible log level in log files.\n",
            "                          Examples: --loglevel DEBUG\n",
            "                                    --loglevel DEBUG:INFO\n",
            "    --suitestatlevel level  How many levels to show in `Statistics by Suite`\n",
            "                          in log and report. By default all suite levels are\n",
            "                          shown. Example:  --suitestatlevel 3\n",
            "    --tagstatinclude tag *  Include only matching tags in `Statistics by Tag`\n",
            "                          in log and report. By default all tags are shown.\n",
            "                          Given tag can be a pattern like with --include.\n",
            "    --tagstatexclude tag *  Exclude matching tags from `Statistics by Tag`.\n",
            "                          This option can be used with --tagstatinclude\n",
            "                          similarly as --exclude is used with --include.\n",
            "    --tagstatcombine tags:name *  Create combined statistics based on tags.\n",
            "                          These statistics are added into `Statistics by Tag`.\n",
            "                          If the optional `name` is not given, name of the\n",
            "                          combined tag is got from the specified tags. Tags are\n",
            "                          matched using the same rules as with --include.\n",
            "                          Examples: --tagstatcombine requirement-*\n",
            "                                    --tagstatcombine tag1ANDtag2:My_name\n",
            "    --tagdoc pattern:doc *  Add documentation to tags matching the given\n",
            "                          pattern. Documentation is shown in `Test Details` and\n",
            "                          also as a tooltip in `Statistics by Tag`. Pattern can\n",
            "                          use `*`, `?` and `[]` as wildcards like --test.\n",
            "                          Documentation can contain formatting like --doc.\n",
            "                          Examples: --tagdoc mytag:Example\n",
            "                                    --tagdoc \"owner-*:Original author\"\n",
            "    --tagstatlink pattern:link:title *  Add external links into `Statistics by\n",
            "                          Tag`. Pattern can use `*`, `?` and `[]` as wildcards\n",
            "                          like --test. Characters matching to `*` and `?`\n",
            "                          wildcards can be used in link and title with syntax\n",
            "                          %N, where N is index of the match (starting from 1).\n",
            "                          Examples: --tagstatlink mytag:http://my.domain:Title\n",
            "                          --tagstatlink \"bug-*:http://url/id=%1:Issue Tracker\"\n",
            "    --expandkeywords name:<pattern>|tag:<pattern> *\n",
            "                          Matching keywords will be automatically expanded in\n",
            "                          the log file. Matching against keyword name or tags\n",
            "                          work using same rules as with --removekeywords.\n",
            "                          Examples: --expandkeywords name:BuiltIn.Log\n",
            "                                    --expandkeywords tag:expand\n",
            "    --removekeywords all|passed|for|wuks|name:<pattern>|tag:<pattern> *\n",
            "                          Remove keyword data from the generated log file.\n",
            "                          Keywords containing warnings are not removed except\n",
            "                          in the `all` mode.\n",
            "                          all:     remove data from all keywords\n",
            "                          passed:  remove data only from keywords in passed\n",
            "                                   test cases and suites\n",
            "                          for:     remove passed iterations from for loops\n",
            "                          while:   remove passed iterations from while loops\n",
            "                          wuks:    remove all but the last failing keyword\n",
            "                                   inside `BuiltIn.Wait Until Keyword Succeeds`\n",
            "                          name:<pattern>:  remove data from keywords that match\n",
            "                                   the given pattern. The pattern is matched\n",
            "                                   against the full name of the keyword (e.g.\n",
            "                                   'MyLib.Keyword', 'resource.Second Keyword'),\n",
            "                                   is case, space, and underscore insensitive,\n",
            "                                   and may contain `*`, `?` and `[]` wildcards.\n",
            "                                   Examples: --removekeywords name:Lib.HugeKw\n",
            "                                             --removekeywords name:myresource.*\n",
            "                          tag:<pattern>:  remove data from keywords that match\n",
            "                                   the given pattern. Tags are case and space\n",
            "                                   insensitive and patterns can contain `*`,\n",
            "                                   `?` and `[]` wildcards. Tags and patterns\n",
            "                                   can also be combined together with `AND`,\n",
            "                                   `OR`, and `NOT` operators.\n",
            "                                   Examples: --removekeywords foo\n",
            "                                             --removekeywords fooANDbar*\n",
            "    --flattenkeywords for|while|iteration|name:<pattern>|tag:<pattern> *\n",
            "                          Flattens matching keywords in the generated log file.\n",
            "                          Matching keywords get all log messages from their\n",
            "                          child keywords and children are discarded otherwise.\n",
            "                          for:     flatten FOR loops fully\n",
            "                          while:   flatten WHILE loops fully\n",
            "                          iteration: flatten FOR/WHILE loop iterations\n",
            "                          foritem: deprecated alias for `iteration`\n",
            "                          name:<pattern>:  flatten matched keywords using same\n",
            "                                   matching rules as with\n",
            "                                   `--removekeywords name:<pattern>`\n",
            "                          tag:<pattern>:  flatten matched keywords using same\n",
            "                                   matching rules as with\n",
            "                                   `--removekeywords tag:<pattern>`\n",
            "    --nostatusrc          Sets the return code to zero regardless of failures\n",
            "                          in test cases. Error codes are returned normally.\n",
            "    --dryrun              Verifies test data and runs tests so that library\n",
            "                          keywords are not executed.\n",
            " -X --exitonfailure       Stops test execution if any test fails.\n",
            "    --exitonerror         Stops test execution if any error occurs when parsing\n",
            "                          test data, importing libraries, and so on.\n",
            "    --skipteardownonexit  Causes teardowns to be skipped if test execution is\n",
            "                          stopped prematurely.\n",
            "    --randomize all|suites|tests|none  Randomizes the test execution order.\n",
            "                          all:    randomizes both suites and tests\n",
            "                          suites: randomizes suites\n",
            "                          tests:  randomizes tests\n",
            "                          none:   no randomization (default)\n",
            "                          Use syntax `VALUE:SEED` to give a custom random seed.\n",
            "                          The seed must be an integer.\n",
            "                          Examples: --randomize all\n",
            "                                    --randomize tests:1234\n",
            "    --listener listener *  Class or module for monitoring test execution.\n",
            "                          Gets notifications e.g. when tests start and end.\n",
            "                          Arguments to the listener class can be given after\n",
            "                          the name using a colon or a semicolon as a separator.\n",
            "                          Examples: --listener MyListener\n",
            "                                    --listener path/to/Listener.py:arg1:arg2\n",
            "    --prerunmodifier modifier *  Class to programmatically modify the suite\n",
            "                          structure before execution. Accepts arguments the\n",
            "                          same way as with --listener.\n",
            "    --prerebotmodifier modifier *  Class to programmatically modify the result\n",
            "                          model before creating reports and logs. Accepts\n",
            "                          arguments the same way as with --listener.\n",
            "    --parser parser *     Custom parser class or module. Parser classes accept\n",
            "                          arguments the same way as with --listener.\n",
            "    --console type        How to report execution on the console.\n",
            "                          verbose:  report every suite and test (default)\n",
            "                          dotted:   only show `.` for passed test, `s` for\n",
            "                                    skipped tests, and `F` for failed tests\n",
            "                          quiet:    no output except for errors and warnings\n",
            "                          none:     no output whatsoever\n",
            " -. --dotted              Shortcut for `--console dotted`.\n",
            "    --quiet               Shortcut for `--console quiet`.\n",
            " -W --consolewidth chars  Width of the console output. Default is 78.\n",
            " -C --consolecolors auto|on|ansi|off  Use colors on console output or not.\n",
            "                          auto: use colors when output not redirected (default)\n",
            "                          on:   always use colors\n",
            "                          ansi: like `on` but use ANSI colors also on Windows\n",
            "                          off:  disable colors altogether\n",
            " -K --consolemarkers auto|on|off  Show markers on the console when top level\n",
            "                          keywords in a test case end. Values have same\n",
            "                          semantics as with --consolecolors.\n",
            " -P --pythonpath path *   Additional locations (directories, ZIPs) where to\n",
            "                          search libraries and other extensions when they are\n",
            "                          imported. Multiple paths can be given by separating\n",
            "                          them with a colon (`:`) or by using this option\n",
            "                          several times. Given path can also be a glob pattern\n",
            "                          matching multiple paths.\n",
            "                          Examples: --pythonpath libs/\n",
            "                                    --pythonpath /opt/libs:libraries.zip\n",
            " -A --argumentfile path *  Text file to read more arguments from. Use special\n",
            "                          path `STDIN` to read contents from the standard input\n",
            "                          stream. File can have both options and input files\n",
            "                          or directories, one per line. Contents do not need to\n",
            "                          be escaped but spaces in the beginning and end of\n",
            "                          lines are removed. Empty lines and lines starting\n",
            "                          with a hash character (#) are ignored.\n",
            "                          Example file:\n",
            "                          |  --include regression\n",
            "                          |  --name Regression Tests\n",
            "                          |  # This is a comment line\n",
            "                          |  tests.robot\n",
            "                          |  path/to/test/directory/\n",
            "                          Examples:\n",
            "                          --argumentfile argfile.txt --argumentfile STDIN\n",
            " -h -? --help             Print usage instructions.\n",
            " --version                Print version information.\n",
            "\n",
            "Options that are marked with an asterisk (*) can be specified multiple times.\n",
            "For example, `--test first --test third` selects test cases with name `first`\n",
            "and `third`. If an option accepts a value but is not marked with an asterisk,\n",
            "the last given value has precedence. For example, `--log A.html --log B.html`\n",
            "creates log file `B.html`. Options accepting no values can be disabled by\n",
            "using the same option again with `no` prefix added or dropped. The last option\n",
            "has precedence regardless of how many times options are used. For example,\n",
            "`--dryrun --dryrun --nodryrun --nostatusrc --statusrc` would not activate the\n",
            "dry-run mode and would return a normal return code.\n",
            "\n",
            "Long option names are case and hyphen insensitive. For example, --TagStatLink\n",
            "and --tag-stat-link are equivalent to, but easier to read than, --tagstatlink.\n",
            "Long options can also be shortened as long as they are unique.\n",
            "\n",
            "Environment Variables\n",
            "=====================\n",
            "\n",
            "ROBOT_OPTIONS             Space separated list of default options to be placed\n",
            "                          in front of any explicit options on the command line.\n",
            "ROBOT_SYSLOG_FILE         Path to a file where Robot Framework writes internal\n",
            "                          information about parsing test case files and running\n",
            "                          tests. Can be useful when debugging problems. If not\n",
            "                          set, or set to a special value `NONE`, writing to the\n",
            "                          syslog file is disabled.\n",
            "ROBOT_SYSLOG_LEVEL        Log level to use when writing to the syslog file.\n",
            "                          Available levels are the same as with --loglevel\n",
            "                          command line option and the default is INFO.\n",
            "ROBOT_INTERNAL_TRACES     When set to any non-empty value, Robot Framework's\n",
            "                          internal methods are included in error tracebacks.\n",
            "\n",
            "Examples\n",
            "========\n",
            "\n",
            "# Simple test run using `robot` command without options.\n",
            "$ robot tests.robot\n",
            "\n",
            "# Using options.\n",
            "$ robot --include smoke --name \"Smoke Tests\" path/to/tests.robot\n",
            "\n",
            "# Executing `robot` module using Python.\n",
            "$ python -m robot path/to/tests\n",
            "\n",
            "# Executing multiple test case files and using case-insensitive long options.\n",
            "$ robot --SuiteStatLevel 2 --Metadata Version:3 tests/*.robot more/tests.robot\n",
            "\n",
            "# Setting default options and syslog file before running tests.\n",
            "$ export ROBOT_OPTIONS=\"--outputdir results --suitestatlevel 2\"\n",
            "$ export ROBOT_SYSLOG_FILE=/tmp/syslog.txt\n",
            "$ robot tests.robot\n",
            "\n"
          ]
        }
      ]
    },
    {
      "cell_type": "code",
      "source": [
        "!pip install scikit-learn scipy"
      ],
      "metadata": {
        "colab": {
          "base_uri": "https://localhost:8080/"
        },
        "id": "ytMs_bbMvC3n",
        "outputId": "8faa437a-5a1d-4942-ffaf-e8a249019edb"
      },
      "execution_count": 74,
      "outputs": [
        {
          "output_type": "stream",
          "name": "stdout",
          "text": [
            "\u001b[33mWARNING: Ignoring invalid distribution -orch (/usr/local/lib/python3.10/dist-packages)\u001b[0m\u001b[33m\n",
            "\u001b[0mRequirement already satisfied: scikit-learn in /usr/local/lib/python3.10/dist-packages (1.2.2)\n",
            "Requirement already satisfied: scipy in /usr/local/lib/python3.10/dist-packages (1.12.0)\n",
            "Requirement already satisfied: numpy>=1.17.3 in /usr/local/lib/python3.10/dist-packages (from scikit-learn) (1.26.4)\n",
            "Requirement already satisfied: joblib>=1.1.1 in /usr/local/lib/python3.10/dist-packages (from scikit-learn) (1.3.2)\n",
            "Requirement already satisfied: threadpoolctl>=2.0.0 in /usr/local/lib/python3.10/dist-packages (from scikit-learn) (3.2.0)\n",
            "\u001b[33mWARNING: Ignoring invalid distribution -orch (/usr/local/lib/python3.10/dist-packages)\u001b[0m\u001b[33m\n",
            "\u001b[0m"
          ]
        }
      ]
    },
    {
      "cell_type": "code",
      "source": [
        "from seaborn import load_dataset\n",
        "from sklearn.linear_model import LogisticRegression\n",
        "from sklearn.model_selection import train_test_split, GridSearchCV\n",
        "from sklearn.svm import SVC\n",
        "from sklearn.metrics import accuracy_score, confusion_matrix, classification_report\n",
        "import matplotlib.pyplot as plt"
      ],
      "metadata": {
        "id": "LoNmTR-Ssi-C"
      },
      "execution_count": 103,
      "outputs": []
    },
    {
      "cell_type": "code",
      "source": [
        "!pip install -U scikit-learn"
      ],
      "metadata": {
        "colab": {
          "base_uri": "https://localhost:8080/",
          "height": 463
        },
        "id": "S1qRnc9pwvzf",
        "outputId": "d3101218-75b3-4969-cbbb-a3772f977722"
      },
      "execution_count": 90,
      "outputs": [
        {
          "output_type": "stream",
          "name": "stdout",
          "text": [
            "\u001b[33mWARNING: Ignoring invalid distribution -orch (/usr/local/lib/python3.10/dist-packages)\u001b[0m\u001b[33m\n",
            "\u001b[0mRequirement already satisfied: scikit-learn in /usr/local/lib/python3.10/dist-packages (1.2.2)\n",
            "Collecting scikit-learn\n",
            "  Downloading scikit_learn-1.4.0-1-cp310-cp310-manylinux_2_17_x86_64.manylinux2014_x86_64.whl (12.1 MB)\n",
            "\u001b[2K     \u001b[90m━━━━━━━━━━━━━━━━━━━━━━━━━━━━━━━━━━━━━━━━\u001b[0m \u001b[32m12.1/12.1 MB\u001b[0m \u001b[31m34.8 MB/s\u001b[0m eta \u001b[36m0:00:00\u001b[0m\n",
            "\u001b[?25hRequirement already satisfied: numpy<2.0,>=1.19.5 in /usr/local/lib/python3.10/dist-packages (from scikit-learn) (1.26.4)\n",
            "Requirement already satisfied: scipy>=1.6.0 in /usr/local/lib/python3.10/dist-packages (from scikit-learn) (1.12.0)\n",
            "Requirement already satisfied: joblib>=1.2.0 in /usr/local/lib/python3.10/dist-packages (from scikit-learn) (1.3.2)\n",
            "Requirement already satisfied: threadpoolctl>=2.0.0 in /usr/local/lib/python3.10/dist-packages (from scikit-learn) (3.2.0)\n",
            "\u001b[33mWARNING: Ignoring invalid distribution -orch (/usr/local/lib/python3.10/dist-packages)\u001b[0m\u001b[33m\n",
            "\u001b[0mInstalling collected packages: scikit-learn\n",
            "  Attempting uninstall: scikit-learn\n",
            "    Found existing installation: scikit-learn 1.2.2\n",
            "    Uninstalling scikit-learn-1.2.2:\n",
            "      Successfully uninstalled scikit-learn-1.2.2\n",
            "\u001b[31mERROR: pip's dependency resolver does not currently take into account all the packages that are installed. This behaviour is the source of the following dependency conflicts.\n",
            "fastai 2.7.14 requires torch<2.3,>=1.10, which is not installed.\n",
            "bigframes 0.20.0 requires pandas<2.1.4,>=1.5.0, but you have pandas 2.2.0 which is incompatible.\u001b[0m\u001b[31m\n",
            "\u001b[0mSuccessfully installed scikit-learn-1.4.0\n"
          ]
        },
        {
          "output_type": "display_data",
          "data": {
            "application/vnd.colab-display-data+json": {
              "pip_warning": {
                "packages": [
                  "sklearn"
                ]
              }
            }
          },
          "metadata": {}
        }
      ]
    },
    {
      "cell_type": "code",
      "source": [
        "!pip install --upgrade scikit-learn"
      ],
      "metadata": {
        "colab": {
          "base_uri": "https://localhost:8080/"
        },
        "id": "Nx1pprYBvi88",
        "outputId": "87b50dfe-2fce-40f6-d58d-da0672981895"
      },
      "execution_count": 92,
      "outputs": [
        {
          "output_type": "stream",
          "name": "stdout",
          "text": [
            "\u001b[33mWARNING: Ignoring invalid distribution -orch (/usr/local/lib/python3.10/dist-packages)\u001b[0m\u001b[33m\n",
            "\u001b[0mRequirement already satisfied: scikit-learn in /usr/local/lib/python3.10/dist-packages (1.4.0)\n",
            "Requirement already satisfied: numpy<2.0,>=1.19.5 in /usr/local/lib/python3.10/dist-packages (from scikit-learn) (1.26.4)\n",
            "Requirement already satisfied: scipy>=1.6.0 in /usr/local/lib/python3.10/dist-packages (from scikit-learn) (1.12.0)\n",
            "Requirement already satisfied: joblib>=1.2.0 in /usr/local/lib/python3.10/dist-packages (from scikit-learn) (1.3.2)\n",
            "Requirement already satisfied: threadpoolctl>=2.0.0 in /usr/local/lib/python3.10/dist-packages (from scikit-learn) (3.2.0)\n",
            "\u001b[33mWARNING: Ignoring invalid distribution -orch (/usr/local/lib/python3.10/dist-packages)\u001b[0m\u001b[33m\n",
            "\u001b[0m"
          ]
        }
      ]
    },
    {
      "cell_type": "code",
      "source": [
        "from seaborn import load_dataset\n",
        "iris = load_dataset('iris')\n",
        "x = iris.drop('species', axis=1)\n",
        "y = iris['species']"
      ],
      "metadata": {
        "id": "708e4DXfxHI0"
      },
      "execution_count": 98,
      "outputs": []
    },
    {
      "cell_type": "code",
      "source": [
        "x_train, x_test, y_train, y_test = train_test_split(x, y, test_size=0.4, random_state=5)"
      ],
      "metadata": {
        "id": "R8nrm6LsxMqZ"
      },
      "execution_count": 101,
      "outputs": []
    },
    {
      "cell_type": "code",
      "source": [
        "logreg = LogisticRegression()\n",
        "logreg.fit(x_train, y_train)\n",
        "y_pred = logreg.predict(x_test)\n",
        "print(accuracy_score(y_test, y_pred))"
      ],
      "metadata": {
        "colab": {
          "base_uri": "https://localhost:8080/"
        },
        "id": "0bn42JnJ1Qiw",
        "outputId": "3e8d0eec-622f-42a3-9cb1-45c76cdcf931"
      },
      "execution_count": 104,
      "outputs": [
        {
          "output_type": "stream",
          "name": "stdout",
          "text": [
            "0.9833333333333333\n"
          ]
        },
        {
          "output_type": "stream",
          "name": "stderr",
          "text": [
            "/usr/local/lib/python3.10/dist-packages/sklearn/linear_model/_logistic.py:458: ConvergenceWarning: lbfgs failed to converge (status=1):\n",
            "STOP: TOTAL NO. of ITERATIONS REACHED LIMIT.\n",
            "\n",
            "Increase the number of iterations (max_iter) or scale the data as shown in:\n",
            "    https://scikit-learn.org/stable/modules/preprocessing.html\n",
            "Please also refer to the documentation for alternative solver options:\n",
            "    https://scikit-learn.org/stable/modules/linear_model.html#logistic-regression\n",
            "  method=\"L-BFGS-B\",\n"
          ]
        }
      ]
    },
    {
      "cell_type": "code",
      "source": [],
      "metadata": {
        "id": "MS9mlBoi1jBd"
      },
      "execution_count": null,
      "outputs": []
    }
  ]
}